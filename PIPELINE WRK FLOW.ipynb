{
 "cells": [
  {
   "cell_type": "code",
   "execution_count": 4,
   "metadata": {},
   "outputs": [
    {
     "name": "stdout",
     "output_type": "stream",
     "text": [
      "0.29461569831729795\n"
     ]
    }
   ],
   "source": [
    "#importing libraries\n",
    "import numpy as np\n",
    "import pandas as pd\n",
    "from pandas import Series,DataFrame\n",
    "from sklearn.pipeline import Pipeline\n",
    "from sklearn.model_selection import GridSearchCV,train_test_split\n",
    "from sklearn.ensemble import RandomForestRegressor\n",
    "from sklearn.preprocessing import OneHotEncoder\n",
    "from sklearn.compose import ColumnTransformer\n",
    "from sklearn.impute import SimpleImputer\n",
    "np.random.seed(45)\n",
    "#importing dataset\n",
    "data = pd.read_csv('Data/car-sales-extended-missing-data.csv')\n",
    "\n",
    "#remove the rows with missing data within the label\n",
    "data.dropna(subset=['Price'],inplace=True)\n",
    "#print(data.head())\n",
    "\n",
    "#define features(both filling missing data and encoding)\n",
    "categorical = ['Make','Colour']\n",
    "cat_Transformer = Pipeline(steps=[('imputer',SimpleImputer(strategy='constant',fill_value='Missing')),\n",
    "                                 ('onehot',OneHotEncoder(handle_unknown='ignore'))\n",
    "                                 ])\n",
    "numerical = ['Odometer (KM)']\n",
    "num_transformer = Pipeline(steps=[('imputer',SimpleImputer(strategy='mean'))\n",
    "                                 ])\n",
    "doors = ['Doors']\n",
    "door_transformer = Pipeline(steps=[('imputer',SimpleImputer(strategy='constant',fill_value=4))\n",
    "                                  ])\n",
    "\n",
    "#transforming and inplacing the defining features\n",
    "Preprocessor = ColumnTransformer(transformers=[\n",
    "                                      ('cate',cat_Transformer,categorical),\n",
    "                                      ('nume',num_transformer,numerical),\n",
    "                                      ('door',door_transformer,doors)\n",
    "])\n",
    "\n",
    "#modeling Pipeline\n",
    "modelling = Pipeline(steps=[('Preprocessor',Preprocessor),\n",
    "                            ('RFR',RandomForestRegressor())\n",
    "                            ])\n",
    "\n",
    "#Splitting data into X and Y\n",
    "X = data.drop(['Price'],axis=1)\n",
    "Y = data['Price']\n",
    "\n",
    "\n",
    "#Splitting data into train_test_split and modelling\n",
    "X_train,X_test,Y_train,Y_test = train_test_split(X,Y,test_size=0.2)\n",
    "modelling.fit(X_train,Y_train)\n",
    "\n",
    "#prediction\n",
    "Ypred = modelling.predict(X_test)\n",
    "\n",
    "print(modelling.score(X_test,Y_test))\n"
   ]
  },
  {
   "cell_type": "code",
   "execution_count": 5,
   "metadata": {},
   "outputs": [
    {
     "data": {
      "text/plain": [
       "0.29461569831729795"
      ]
     },
     "execution_count": 5,
     "metadata": {},
     "output_type": "execute_result"
    }
   ],
   "source": [
    "np.random.seed(45)\n",
    "modelling.score(X_test,Y_test)"
   ]
  },
  {
   "cell_type": "code",
   "execution_count": null,
   "metadata": {},
   "outputs": [],
   "source": []
  }
 ],
 "metadata": {
  "kernelspec": {
   "display_name": "Python 3",
   "language": "python",
   "name": "python3"
  },
  "language_info": {
   "codemirror_mode": {
    "name": "ipython",
    "version": 3
   },
   "file_extension": ".py",
   "mimetype": "text/x-python",
   "name": "python",
   "nbconvert_exporter": "python",
   "pygments_lexer": "ipython3",
   "version": "3.8.5"
  }
 },
 "nbformat": 4,
 "nbformat_minor": 4
}
