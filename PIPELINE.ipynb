{
 "cells": [
  {
   "cell_type": "code",
   "execution_count": 5,
   "metadata": {},
   "outputs": [
    {
     "data": {
      "text/plain": [
       "RandomForestRegressor()"
      ]
     },
     "execution_count": 5,
     "metadata": {},
     "output_type": "execute_result"
    }
   ],
   "source": [
    "import numpy as np\n",
    "import pandas as pd\n",
    "from pandas import Series,DataFrame\n",
    "from sklearn.model_selection import GridSearchCV,train_test_split\n",
    "from sklearn.metrics import accuracy_score,precision_score,recall_score,f1_score\n",
    "from sklearn.compose import ColumnTransformer\n",
    "from sklearn.impute import SimpleImputer\n",
    "from sklearn.pipeline import Pipeline\n",
    "from sklearn.preprocessing import OneHotEncoder\n",
    "from sklearn.ensemble import RandomForestRegressor\n",
    "RFR = RandomForestRegressor()\n",
    "\n",
    "np.random.seed(45)\n",
    "data = pd.read_csv('Data/car-sales-extended-missing-data.csv')\n",
    "\n",
    "data.dropna(subset=['Price'],inplace=True)\n",
    "\n",
    "X = data.drop(['Price'],axis=1)\n",
    "Y = data['Price']\n",
    "#print(data.isna().sum())\n",
    "\n",
    "#defining FEature(both missing data and encoding)\n",
    "Categorical_features = ['Make','Colour']\n",
    "Numerical_features = ['Odometer (KM)']\n",
    "Doors_features = ['Doors']\n",
    "\n",
    "#Encoding feature\n",
    "imputer_categorical = SimpleImputer(strategy='constant',fill_value='Missing')\n",
    "imputer_numerical = SimpleImputer(strategy='mean')\n",
    "imputer_door = SimpleImputer(strategy='constant',fill_value=4)\n",
    "\n",
    "CT_imputer = ColumnTransformer(transformers=[('imputer_categorical',imputer_categorical,Categorical_features),\n",
    "                                             ('imputer_numerical',imputer_numerical,Numerical_features),\n",
    "                                             ('imputer_door',imputer_door,Doors_features)\n",
    "                                             ])\n",
    "\n",
    "\n",
    "one_hot = OneHotEncoder()\n",
    "CT_one_hot = ColumnTransformer(transformers=[('one_hot',OneHotEncoder(categories='auto'),Categorical_features)],\n",
    "                               remainder='passthrough')\n",
    "\n",
    "data_new = CT_imputer.fit_transform(data)\n",
    "df = DataFrame(data_new,columns=['Make','Colour','Odometer (KM)','Doors'])\n",
    "df = CT_one_hot.fit_transform(df)\n",
    "\n",
    "#Splitting data into train_test_split and modelling\n",
    "X_train,X_test,Y_train,Y_test = train_test_split(df,Y,test_size=0.2)\n",
    "\n",
    "RFR.fit(X_train,Y_train)\n",
    "\n",
    "\n"
   ]
  },
  {
   "cell_type": "code",
   "execution_count": 6,
   "metadata": {},
   "outputs": [
    {
     "data": {
      "text/plain": [
       "0.2969869083504645"
      ]
     },
     "execution_count": 6,
     "metadata": {},
     "output_type": "execute_result"
    }
   ],
   "source": [
    "np.random.seed(45)\n",
    "Ypred = RFR.predict(X_test)\n",
    "RFR.score(X_test,Y_test)"
   ]
  },
  {
   "cell_type": "code",
   "execution_count": 18,
   "metadata": {},
   "outputs": [],
   "source": [
    "RFRR = RandomForestRegressor(n_jobs=1)\n",
    "grid = {\n",
    "        'max_depth':[None],\n",
    "        'min_samples_split':[2,4],\n",
    "        'min_samples_leaf':[1,2,3],\n",
    "        'max_features':['auto'],\n",
    "        }\n"
   ]
  },
  {
   "cell_type": "code",
   "execution_count": 19,
   "metadata": {},
   "outputs": [],
   "source": [
    "GSC = GridSearchCV(\n",
    "             estimator=RFRR,\n",
    "             param_grid=grid,\n",
    "             cv=5,\n",
    "             verbose=2,\n",
    ")\n"
   ]
  },
  {
   "cell_type": "code",
   "execution_count": 20,
   "metadata": {},
   "outputs": [
    {
     "name": "stdout",
     "output_type": "stream",
     "text": [
      "Fitting 5 folds for each of 6 candidates, totalling 30 fits\n",
      "[CV] max_depth=None, max_features=auto, min_samples_leaf=1, min_samples_split=2 \n"
     ]
    },
    {
     "name": "stderr",
     "output_type": "stream",
     "text": [
      "[Parallel(n_jobs=1)]: Using backend SequentialBackend with 1 concurrent workers.\n"
     ]
    },
    {
     "name": "stdout",
     "output_type": "stream",
     "text": [
      "[CV]  max_depth=None, max_features=auto, min_samples_leaf=1, min_samples_split=2, total=   0.7s\n",
      "[CV] max_depth=None, max_features=auto, min_samples_leaf=1, min_samples_split=2 \n"
     ]
    },
    {
     "name": "stderr",
     "output_type": "stream",
     "text": [
      "[Parallel(n_jobs=1)]: Done   1 out of   1 | elapsed:    0.6s remaining:    0.0s\n"
     ]
    },
    {
     "name": "stdout",
     "output_type": "stream",
     "text": [
      "[CV]  max_depth=None, max_features=auto, min_samples_leaf=1, min_samples_split=2, total=   0.6s\n",
      "[CV] max_depth=None, max_features=auto, min_samples_leaf=1, min_samples_split=2 \n",
      "[CV]  max_depth=None, max_features=auto, min_samples_leaf=1, min_samples_split=2, total=   0.5s\n",
      "[CV] max_depth=None, max_features=auto, min_samples_leaf=1, min_samples_split=2 \n",
      "[CV]  max_depth=None, max_features=auto, min_samples_leaf=1, min_samples_split=2, total=   0.5s\n",
      "[CV] max_depth=None, max_features=auto, min_samples_leaf=1, min_samples_split=2 \n",
      "[CV]  max_depth=None, max_features=auto, min_samples_leaf=1, min_samples_split=2, total=   0.5s\n",
      "[CV] max_depth=None, max_features=auto, min_samples_leaf=1, min_samples_split=4 \n",
      "[CV]  max_depth=None, max_features=auto, min_samples_leaf=1, min_samples_split=4, total=   0.4s\n",
      "[CV] max_depth=None, max_features=auto, min_samples_leaf=1, min_samples_split=4 \n",
      "[CV]  max_depth=None, max_features=auto, min_samples_leaf=1, min_samples_split=4, total=   0.4s\n",
      "[CV] max_depth=None, max_features=auto, min_samples_leaf=1, min_samples_split=4 \n",
      "[CV]  max_depth=None, max_features=auto, min_samples_leaf=1, min_samples_split=4, total=   0.4s\n",
      "[CV] max_depth=None, max_features=auto, min_samples_leaf=1, min_samples_split=4 \n",
      "[CV]  max_depth=None, max_features=auto, min_samples_leaf=1, min_samples_split=4, total=   0.4s\n",
      "[CV] max_depth=None, max_features=auto, min_samples_leaf=1, min_samples_split=4 \n",
      "[CV]  max_depth=None, max_features=auto, min_samples_leaf=1, min_samples_split=4, total=   0.4s\n",
      "[CV] max_depth=None, max_features=auto, min_samples_leaf=2, min_samples_split=2 \n",
      "[CV]  max_depth=None, max_features=auto, min_samples_leaf=2, min_samples_split=2, total=   0.4s\n",
      "[CV] max_depth=None, max_features=auto, min_samples_leaf=2, min_samples_split=2 \n",
      "[CV]  max_depth=None, max_features=auto, min_samples_leaf=2, min_samples_split=2, total=   0.4s\n",
      "[CV] max_depth=None, max_features=auto, min_samples_leaf=2, min_samples_split=2 \n",
      "[CV]  max_depth=None, max_features=auto, min_samples_leaf=2, min_samples_split=2, total=   0.4s\n",
      "[CV] max_depth=None, max_features=auto, min_samples_leaf=2, min_samples_split=2 \n",
      "[CV]  max_depth=None, max_features=auto, min_samples_leaf=2, min_samples_split=2, total=   0.4s\n",
      "[CV] max_depth=None, max_features=auto, min_samples_leaf=2, min_samples_split=2 \n",
      "[CV]  max_depth=None, max_features=auto, min_samples_leaf=2, min_samples_split=2, total=   0.5s\n",
      "[CV] max_depth=None, max_features=auto, min_samples_leaf=2, min_samples_split=4 \n",
      "[CV]  max_depth=None, max_features=auto, min_samples_leaf=2, min_samples_split=4, total=   0.5s\n",
      "[CV] max_depth=None, max_features=auto, min_samples_leaf=2, min_samples_split=4 \n",
      "[CV]  max_depth=None, max_features=auto, min_samples_leaf=2, min_samples_split=4, total=   0.4s\n",
      "[CV] max_depth=None, max_features=auto, min_samples_leaf=2, min_samples_split=4 \n",
      "[CV]  max_depth=None, max_features=auto, min_samples_leaf=2, min_samples_split=4, total=   0.5s\n",
      "[CV] max_depth=None, max_features=auto, min_samples_leaf=2, min_samples_split=4 \n",
      "[CV]  max_depth=None, max_features=auto, min_samples_leaf=2, min_samples_split=4, total=   0.4s\n",
      "[CV] max_depth=None, max_features=auto, min_samples_leaf=2, min_samples_split=4 \n",
      "[CV]  max_depth=None, max_features=auto, min_samples_leaf=2, min_samples_split=4, total=   0.4s\n",
      "[CV] max_depth=None, max_features=auto, min_samples_leaf=3, min_samples_split=2 \n",
      "[CV]  max_depth=None, max_features=auto, min_samples_leaf=3, min_samples_split=2, total=   0.5s\n",
      "[CV] max_depth=None, max_features=auto, min_samples_leaf=3, min_samples_split=2 \n",
      "[CV]  max_depth=None, max_features=auto, min_samples_leaf=3, min_samples_split=2, total=   0.5s\n",
      "[CV] max_depth=None, max_features=auto, min_samples_leaf=3, min_samples_split=2 \n",
      "[CV]  max_depth=None, max_features=auto, min_samples_leaf=3, min_samples_split=2, total=   0.5s\n",
      "[CV] max_depth=None, max_features=auto, min_samples_leaf=3, min_samples_split=2 \n",
      "[CV]  max_depth=None, max_features=auto, min_samples_leaf=3, min_samples_split=2, total=   0.4s\n",
      "[CV] max_depth=None, max_features=auto, min_samples_leaf=3, min_samples_split=2 \n",
      "[CV]  max_depth=None, max_features=auto, min_samples_leaf=3, min_samples_split=2, total=   0.4s\n",
      "[CV] max_depth=None, max_features=auto, min_samples_leaf=3, min_samples_split=4 \n",
      "[CV]  max_depth=None, max_features=auto, min_samples_leaf=3, min_samples_split=4, total=   0.4s\n",
      "[CV] max_depth=None, max_features=auto, min_samples_leaf=3, min_samples_split=4 \n",
      "[CV]  max_depth=None, max_features=auto, min_samples_leaf=3, min_samples_split=4, total=   0.4s\n",
      "[CV] max_depth=None, max_features=auto, min_samples_leaf=3, min_samples_split=4 \n",
      "[CV]  max_depth=None, max_features=auto, min_samples_leaf=3, min_samples_split=4, total=   0.4s\n",
      "[CV] max_depth=None, max_features=auto, min_samples_leaf=3, min_samples_split=4 \n",
      "[CV]  max_depth=None, max_features=auto, min_samples_leaf=3, min_samples_split=4, total=   0.4s\n",
      "[CV] max_depth=None, max_features=auto, min_samples_leaf=3, min_samples_split=4 \n",
      "[CV]  max_depth=None, max_features=auto, min_samples_leaf=3, min_samples_split=4, total=   0.4s\n"
     ]
    },
    {
     "name": "stderr",
     "output_type": "stream",
     "text": [
      "[Parallel(n_jobs=1)]: Done  30 out of  30 | elapsed:   13.4s finished\n"
     ]
    },
    {
     "data": {
      "text/plain": [
       "GridSearchCV(cv=5, estimator=RandomForestRegressor(n_jobs=1),\n",
       "             param_grid={'max_depth': [None], 'max_features': ['auto'],\n",
       "                         'min_samples_leaf': [1, 2, 3],\n",
       "                         'min_samples_split': [2, 4]},\n",
       "             verbose=2)"
      ]
     },
     "execution_count": 20,
     "metadata": {},
     "output_type": "execute_result"
    }
   ],
   "source": [
    "GSC.fit(X_train,Y_train)"
   ]
  },
  {
   "cell_type": "code",
   "execution_count": 21,
   "metadata": {},
   "outputs": [
    {
     "data": {
      "text/plain": [
       "RandomForestRegressor(min_samples_leaf=3, n_jobs=1)"
      ]
     },
     "execution_count": 21,
     "metadata": {},
     "output_type": "execute_result"
    }
   ],
   "source": [
    "GSC.best_estimator_"
   ]
  },
  {
   "cell_type": "code",
   "execution_count": 22,
   "metadata": {},
   "outputs": [
    {
     "data": {
      "text/plain": [
       "{'max_depth': None,\n",
       " 'max_features': 'auto',\n",
       " 'min_samples_leaf': 3,\n",
       " 'min_samples_split': 2}"
      ]
     },
     "execution_count": 22,
     "metadata": {},
     "output_type": "execute_result"
    }
   ],
   "source": [
    "GSC.best_params_"
   ]
  },
  {
   "cell_type": "code",
   "execution_count": 23,
   "metadata": {},
   "outputs": [
    {
     "data": {
      "text/plain": [
       "0.1880095079891496"
      ]
     },
     "execution_count": 23,
     "metadata": {},
     "output_type": "execute_result"
    }
   ],
   "source": [
    "GSC.best_score_"
   ]
  },
  {
   "cell_type": "code",
   "execution_count": 24,
   "metadata": {},
   "outputs": [],
   "source": [
    "Ypred = GSC.predict(X_test)"
   ]
  },
  {
   "cell_type": "code",
   "execution_count": 25,
   "metadata": {},
   "outputs": [
    {
     "data": {
      "text/plain": [
       "0.3713091671005393"
      ]
     },
     "execution_count": 25,
     "metadata": {},
     "output_type": "execute_result"
    }
   ],
   "source": [
    "GSC.score(X_test,Y_test)"
   ]
  },
  {
   "cell_type": "code",
   "execution_count": null,
   "metadata": {},
   "outputs": [],
   "source": []
  }
 ],
 "metadata": {
  "kernelspec": {
   "display_name": "Python 3",
   "language": "python",
   "name": "python3"
  },
  "language_info": {
   "codemirror_mode": {
    "name": "ipython",
    "version": 3
   },
   "file_extension": ".py",
   "mimetype": "text/x-python",
   "name": "python",
   "nbconvert_exporter": "python",
   "pygments_lexer": "ipython3",
   "version": "3.8.5"
  }
 },
 "nbformat": 4,
 "nbformat_minor": 4
}
