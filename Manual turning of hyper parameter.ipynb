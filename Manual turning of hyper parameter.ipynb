{
 "cells": [
  {
   "cell_type": "code",
   "execution_count": 15,
   "metadata": {},
   "outputs": [
    {
     "name": "stdout",
     "output_type": "stream",
     "text": [
      "(303, 13)\n"
     ]
    }
   ],
   "source": [
    "import numpy as np\n",
    "import pandas as pd\n",
    "from pandas import Series,DataFrame\n",
    "from sklearn.metrics import accuracy_score,recall_score,precision_score,f1_score\n",
    "from sklearn.ensemble import RandomForestClassifier\n",
    "RFC = RandomForestClassifier()\n",
    "\n",
    "df = pd.read_csv('Data/heart-disease.csv')\n",
    "\n",
    "np.random.seed(45)\n",
    "df_shuffled = df.sample(frac=1)\n",
    "\n",
    "X = df_shuffled.drop(['target'],axis=1)\n",
    "print(X.shape)\n",
    "Y = df_shuffled['target']\n",
    "\n",
    "train_split = round(len(X)*0.7)\n",
    "val_split = round(len(X)*0.85)\n",
    "X_train,Y_train = X[:train_split] , Y[:train_split]\n",
    "X_val,Y_val = X[train_split:val_split] , Y[train_split:val_split]\n",
    "X_test , Y_test = X[val_split:] , Y[val_split:]"
   ]
  },
  {
   "cell_type": "code",
   "execution_count": 24,
   "metadata": {},
   "outputs": [],
   "source": [
    "def evaluating_all(y_true,y_preds):\n",
    "    accuracy = accuracy_score(y_true,y_preds)\n",
    "    recall = recall_score(y_true,y_preds)\n",
    "    precision = precision_score(y_true,y_preds)\n",
    "    F1 = f1_score(y_true,y_preds)\n",
    "    metric = {'first':accuracy,\n",
    "             'third':precision,              \n",
    "             'second':recall,\n",
    "             'fourth':F1}\n",
    "    print(f'accuracy_score is {accuracy_score(y_true,y_preds)*100:.2f}%')\n",
    "    print(f'precision_score is {precision_score(y_true,y_preds)*100:.2f}%')\n",
    "    print(f'recall_score is {recall_score(y_true,y_preds)*100:.2f}%')\n",
    "    print(f'f1_score is {f1_score(y_true,y_preds)*100:.2f}%')\n",
    "    return metric"
   ]
  },
  {
   "cell_type": "code",
   "execution_count": 17,
   "metadata": {},
   "outputs": [
    {
     "data": {
      "text/plain": [
       "RandomForestClassifier()"
      ]
     },
     "execution_count": 17,
     "metadata": {},
     "output_type": "execute_result"
    }
   ],
   "source": [
    "RFC.fit(X_train,Y_train)"
   ]
  },
  {
   "cell_type": "code",
   "execution_count": 20,
   "metadata": {},
   "outputs": [],
   "source": [
    "Ypred = RFC.predict(X_test)"
   ]
  },
  {
   "cell_type": "code",
   "execution_count": 25,
   "metadata": {},
   "outputs": [
    {
     "name": "stdout",
     "output_type": "stream",
     "text": [
      "accuracy_score is 82.22%\n",
      "precision_score is 88.00%\n",
      "recall_score is 81.48%\n",
      "f1_score is 84.62%\n"
     ]
    },
    {
     "data": {
      "text/plain": [
       "{'first': 0.8222222222222222,\n",
       " 'third': 0.88,\n",
       " 'second': 0.8148148148148148,\n",
       " 'fourth': 0.8461538461538461}"
      ]
     },
     "execution_count": 25,
     "metadata": {},
     "output_type": "execute_result"
    }
   ],
   "source": [
    "evaluating_all(Y_test,Ypred)"
   ]
  },
  {
   "cell_type": "code",
   "execution_count": null,
   "metadata": {},
   "outputs": [],
   "source": []
  }
 ],
 "metadata": {
  "kernelspec": {
   "display_name": "Python 3",
   "language": "python",
   "name": "python3"
  },
  "language_info": {
   "codemirror_mode": {
    "name": "ipython",
    "version": 3
   },
   "file_extension": ".py",
   "mimetype": "text/x-python",
   "name": "python",
   "nbconvert_exporter": "python",
   "pygments_lexer": "ipython3",
   "version": "3.8.3"
  }
 },
 "nbformat": 4,
 "nbformat_minor": 4
}
