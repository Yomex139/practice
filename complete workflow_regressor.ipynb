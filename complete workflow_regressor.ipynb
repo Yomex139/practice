{
 "cells": [
  {
   "cell_type": "code",
   "execution_count": 1,
   "metadata": {},
   "outputs": [
    {
     "name": "stdout",
     "output_type": "stream",
     "text": [
      "     Make Colour  Odometer (KM)  Doors    Price\n",
      "0   Honda  White        35431.0    4.0  15323.0\n",
      "1     BMW   Blue       192714.0    5.0  19943.0\n",
      "2   Honda  White        84714.0    4.0  28343.0\n",
      "3  Toyota  White       154365.0    4.0  13434.0\n",
      "4  Nissan   Blue       181577.0    3.0  14043.0\n"
     ]
    },
    {
     "data": {
      "text/plain": [
       "0.29461569831729795"
      ]
     },
     "execution_count": 1,
     "metadata": {},
     "output_type": "execute_result"
    }
   ],
   "source": [
    "#importing library\n",
    "import numpy as np\n",
    "import pandas as pd\n",
    "from pandas import Series,DataFrame\n",
    "from sklearn.ensemble import RandomForestRegressor\n",
    "from sklearn.model_selection import train_test_split,GridSearchCV\n",
    "from sklearn.compose import ColumnTransformer\n",
    "from sklearn.preprocessing import OneHotEncoder\n",
    "from sklearn.impute import SimpleImputer\n",
    "from sklearn.pipeline import Pipeline\n",
    "np.random.seed(45)\n",
    "\n",
    "#importing dataset\n",
    "data = pd.read_csv('Data/car-sales-extended-missing-data.csv')\n",
    "\n",
    "data.dropna(subset=['Price'],inplace=True)\n",
    "print(data.head())\n",
    "\n",
    "#defining parameters(both missing data and encoding)\n",
    "Categorical_parameter = ['Make','Colour']\n",
    "Categorical_coder = Pipeline(steps=[('imputer',SimpleImputer(strategy='constant',fill_value='Missing')),\n",
    "                                    ('one_hot',OneHotEncoder(handle_unknown='ignore'))\n",
    "                                    ])\n",
    "Numerical_parameter = ['Odometer (KM)']\n",
    "Numerical_coder = Pipeline(steps=[('imputer',SimpleImputer(strategy='mean'))\n",
    "                                  ])\n",
    "Door_parameter = ['Doors']\n",
    "Door_coder = Pipeline(steps=[('imputer',SimpleImputer(strategy='constant',fill_value=4))\n",
    "                             ])\n",
    "\n",
    "#imputing and tranforming the defined parameters\n",
    "Preprocessor = ColumnTransformer(transformers=[\n",
    "                                               ('cate_par',Categorical_coder,Categorical_parameter),\n",
    "                                               ('nume_par',Numerical_coder,Numerical_parameter),\n",
    "                                               ('door_par',Door_coder,Door_parameter)\n",
    "                                              ],\n",
    "                                              remainder='passthrough')\n",
    "\n",
    "#transformation and modelling\n",
    "modelling = Pipeline(steps=[('Preprocessor',Preprocessor),\n",
    "                                 ('RandomForest',RandomForestRegressor())\n",
    "                                 ])\n",
    "\n",
    "#splitting dataset into X and Y\n",
    "X = data.drop(['Price'],axis=1)\n",
    "Y = data['Price']\n",
    "\n",
    "#splitting dataset into train_test_split\n",
    "X_train,X_test,Y_train,Y_test = train_test_split(X,Y,test_size=0.2)\n",
    "\n",
    "#traing machine with training data\n",
    "modelling.fit(X_train,Y_train)\n",
    "\n",
    "#prediction and scoring\n",
    "#print(modelling.predict(X_test))\n",
    "modelling.score(X_test,Y_test)\n"
   ]
  },
  {
   "cell_type": "code",
   "execution_count": 2,
   "metadata": {},
   "outputs": [
    {
     "name": "stdout",
     "output_type": "stream",
     "text": [
      "Fitting 5 folds for each of 8 candidates, totalling 40 fits\n",
      "[CV] Preprocessor__nume_par__imputer__strategy=mean, RandomForest__max_depth=None, RandomForest__min_samples_split=2 \n"
     ]
    },
    {
     "name": "stderr",
     "output_type": "stream",
     "text": [
      "[Parallel(n_jobs=1)]: Using backend SequentialBackend with 1 concurrent workers.\n"
     ]
    },
    {
     "name": "stdout",
     "output_type": "stream",
     "text": [
      "[CV]  Preprocessor__nume_par__imputer__strategy=mean, RandomForest__max_depth=None, RandomForest__min_samples_split=2, total=   0.6s\n",
      "[CV] Preprocessor__nume_par__imputer__strategy=mean, RandomForest__max_depth=None, RandomForest__min_samples_split=2 \n"
     ]
    },
    {
     "name": "stderr",
     "output_type": "stream",
     "text": [
      "[Parallel(n_jobs=1)]: Done   1 out of   1 | elapsed:    0.5s remaining:    0.0s\n"
     ]
    },
    {
     "name": "stdout",
     "output_type": "stream",
     "text": [
      "[CV]  Preprocessor__nume_par__imputer__strategy=mean, RandomForest__max_depth=None, RandomForest__min_samples_split=2, total=   0.5s\n",
      "[CV] Preprocessor__nume_par__imputer__strategy=mean, RandomForest__max_depth=None, RandomForest__min_samples_split=2 \n",
      "[CV]  Preprocessor__nume_par__imputer__strategy=mean, RandomForest__max_depth=None, RandomForest__min_samples_split=2, total=   0.5s\n",
      "[CV] Preprocessor__nume_par__imputer__strategy=mean, RandomForest__max_depth=None, RandomForest__min_samples_split=2 \n",
      "[CV]  Preprocessor__nume_par__imputer__strategy=mean, RandomForest__max_depth=None, RandomForest__min_samples_split=2, total=   0.5s\n",
      "[CV] Preprocessor__nume_par__imputer__strategy=mean, RandomForest__max_depth=None, RandomForest__min_samples_split=2 \n",
      "[CV]  Preprocessor__nume_par__imputer__strategy=mean, RandomForest__max_depth=None, RandomForest__min_samples_split=2, total=   0.5s\n",
      "[CV] Preprocessor__nume_par__imputer__strategy=mean, RandomForest__max_depth=None, RandomForest__min_samples_split=4 \n",
      "[CV]  Preprocessor__nume_par__imputer__strategy=mean, RandomForest__max_depth=None, RandomForest__min_samples_split=4, total=   0.5s\n",
      "[CV] Preprocessor__nume_par__imputer__strategy=mean, RandomForest__max_depth=None, RandomForest__min_samples_split=4 \n",
      "[CV]  Preprocessor__nume_par__imputer__strategy=mean, RandomForest__max_depth=None, RandomForest__min_samples_split=4, total=   0.5s\n",
      "[CV] Preprocessor__nume_par__imputer__strategy=mean, RandomForest__max_depth=None, RandomForest__min_samples_split=4 \n",
      "[CV]  Preprocessor__nume_par__imputer__strategy=mean, RandomForest__max_depth=None, RandomForest__min_samples_split=4, total=   0.5s\n",
      "[CV] Preprocessor__nume_par__imputer__strategy=mean, RandomForest__max_depth=None, RandomForest__min_samples_split=4 \n",
      "[CV]  Preprocessor__nume_par__imputer__strategy=mean, RandomForest__max_depth=None, RandomForest__min_samples_split=4, total=   0.5s\n",
      "[CV] Preprocessor__nume_par__imputer__strategy=mean, RandomForest__max_depth=None, RandomForest__min_samples_split=4 \n",
      "[CV]  Preprocessor__nume_par__imputer__strategy=mean, RandomForest__max_depth=None, RandomForest__min_samples_split=4, total=   0.5s\n",
      "[CV] Preprocessor__nume_par__imputer__strategy=mean, RandomForest__max_depth=2, RandomForest__min_samples_split=2 \n",
      "[CV]  Preprocessor__nume_par__imputer__strategy=mean, RandomForest__max_depth=2, RandomForest__min_samples_split=2, total=   0.3s\n",
      "[CV] Preprocessor__nume_par__imputer__strategy=mean, RandomForest__max_depth=2, RandomForest__min_samples_split=2 \n",
      "[CV]  Preprocessor__nume_par__imputer__strategy=mean, RandomForest__max_depth=2, RandomForest__min_samples_split=2, total=   0.3s\n",
      "[CV] Preprocessor__nume_par__imputer__strategy=mean, RandomForest__max_depth=2, RandomForest__min_samples_split=2 \n",
      "[CV]  Preprocessor__nume_par__imputer__strategy=mean, RandomForest__max_depth=2, RandomForest__min_samples_split=2, total=   0.3s\n",
      "[CV] Preprocessor__nume_par__imputer__strategy=mean, RandomForest__max_depth=2, RandomForest__min_samples_split=2 \n",
      "[CV]  Preprocessor__nume_par__imputer__strategy=mean, RandomForest__max_depth=2, RandomForest__min_samples_split=2, total=   0.3s\n",
      "[CV] Preprocessor__nume_par__imputer__strategy=mean, RandomForest__max_depth=2, RandomForest__min_samples_split=2 \n",
      "[CV]  Preprocessor__nume_par__imputer__strategy=mean, RandomForest__max_depth=2, RandomForest__min_samples_split=2, total=   0.3s\n",
      "[CV] Preprocessor__nume_par__imputer__strategy=mean, RandomForest__max_depth=2, RandomForest__min_samples_split=4 \n",
      "[CV]  Preprocessor__nume_par__imputer__strategy=mean, RandomForest__max_depth=2, RandomForest__min_samples_split=4, total=   0.3s\n",
      "[CV] Preprocessor__nume_par__imputer__strategy=mean, RandomForest__max_depth=2, RandomForest__min_samples_split=4 \n",
      "[CV]  Preprocessor__nume_par__imputer__strategy=mean, RandomForest__max_depth=2, RandomForest__min_samples_split=4, total=   0.3s\n",
      "[CV] Preprocessor__nume_par__imputer__strategy=mean, RandomForest__max_depth=2, RandomForest__min_samples_split=4 \n",
      "[CV]  Preprocessor__nume_par__imputer__strategy=mean, RandomForest__max_depth=2, RandomForest__min_samples_split=4, total=   0.3s\n",
      "[CV] Preprocessor__nume_par__imputer__strategy=mean, RandomForest__max_depth=2, RandomForest__min_samples_split=4 \n",
      "[CV]  Preprocessor__nume_par__imputer__strategy=mean, RandomForest__max_depth=2, RandomForest__min_samples_split=4, total=   0.3s\n",
      "[CV] Preprocessor__nume_par__imputer__strategy=mean, RandomForest__max_depth=2, RandomForest__min_samples_split=4 \n",
      "[CV]  Preprocessor__nume_par__imputer__strategy=mean, RandomForest__max_depth=2, RandomForest__min_samples_split=4, total=   0.3s\n",
      "[CV] Preprocessor__nume_par__imputer__strategy=median, RandomForest__max_depth=None, RandomForest__min_samples_split=2 \n",
      "[CV]  Preprocessor__nume_par__imputer__strategy=median, RandomForest__max_depth=None, RandomForest__min_samples_split=2, total=   0.5s\n",
      "[CV] Preprocessor__nume_par__imputer__strategy=median, RandomForest__max_depth=None, RandomForest__min_samples_split=2 \n",
      "[CV]  Preprocessor__nume_par__imputer__strategy=median, RandomForest__max_depth=None, RandomForest__min_samples_split=2, total=   0.5s\n",
      "[CV] Preprocessor__nume_par__imputer__strategy=median, RandomForest__max_depth=None, RandomForest__min_samples_split=2 \n",
      "[CV]  Preprocessor__nume_par__imputer__strategy=median, RandomForest__max_depth=None, RandomForest__min_samples_split=2, total=   0.5s\n",
      "[CV] Preprocessor__nume_par__imputer__strategy=median, RandomForest__max_depth=None, RandomForest__min_samples_split=2 \n",
      "[CV]  Preprocessor__nume_par__imputer__strategy=median, RandomForest__max_depth=None, RandomForest__min_samples_split=2, total=   0.5s\n",
      "[CV] Preprocessor__nume_par__imputer__strategy=median, RandomForest__max_depth=None, RandomForest__min_samples_split=2 \n",
      "[CV]  Preprocessor__nume_par__imputer__strategy=median, RandomForest__max_depth=None, RandomForest__min_samples_split=2, total=   0.5s\n",
      "[CV] Preprocessor__nume_par__imputer__strategy=median, RandomForest__max_depth=None, RandomForest__min_samples_split=4 \n",
      "[CV]  Preprocessor__nume_par__imputer__strategy=median, RandomForest__max_depth=None, RandomForest__min_samples_split=4, total=   0.4s\n",
      "[CV] Preprocessor__nume_par__imputer__strategy=median, RandomForest__max_depth=None, RandomForest__min_samples_split=4 \n",
      "[CV]  Preprocessor__nume_par__imputer__strategy=median, RandomForest__max_depth=None, RandomForest__min_samples_split=4, total=   0.5s\n",
      "[CV] Preprocessor__nume_par__imputer__strategy=median, RandomForest__max_depth=None, RandomForest__min_samples_split=4 \n",
      "[CV]  Preprocessor__nume_par__imputer__strategy=median, RandomForest__max_depth=None, RandomForest__min_samples_split=4, total=   0.5s\n",
      "[CV] Preprocessor__nume_par__imputer__strategy=median, RandomForest__max_depth=None, RandomForest__min_samples_split=4 \n",
      "[CV]  Preprocessor__nume_par__imputer__strategy=median, RandomForest__max_depth=None, RandomForest__min_samples_split=4, total=   0.5s\n",
      "[CV] Preprocessor__nume_par__imputer__strategy=median, RandomForest__max_depth=None, RandomForest__min_samples_split=4 \n",
      "[CV]  Preprocessor__nume_par__imputer__strategy=median, RandomForest__max_depth=None, RandomForest__min_samples_split=4, total=   0.5s\n",
      "[CV] Preprocessor__nume_par__imputer__strategy=median, RandomForest__max_depth=2, RandomForest__min_samples_split=2 \n",
      "[CV]  Preprocessor__nume_par__imputer__strategy=median, RandomForest__max_depth=2, RandomForest__min_samples_split=2, total=   0.5s\n",
      "[CV] Preprocessor__nume_par__imputer__strategy=median, RandomForest__max_depth=2, RandomForest__min_samples_split=2 \n",
      "[CV]  Preprocessor__nume_par__imputer__strategy=median, RandomForest__max_depth=2, RandomForest__min_samples_split=2, total=   0.5s\n",
      "[CV] Preprocessor__nume_par__imputer__strategy=median, RandomForest__max_depth=2, RandomForest__min_samples_split=2 \n",
      "[CV]  Preprocessor__nume_par__imputer__strategy=median, RandomForest__max_depth=2, RandomForest__min_samples_split=2, total=   0.5s\n",
      "[CV] Preprocessor__nume_par__imputer__strategy=median, RandomForest__max_depth=2, RandomForest__min_samples_split=2 \n",
      "[CV]  Preprocessor__nume_par__imputer__strategy=median, RandomForest__max_depth=2, RandomForest__min_samples_split=2, total=   0.5s\n",
      "[CV] Preprocessor__nume_par__imputer__strategy=median, RandomForest__max_depth=2, RandomForest__min_samples_split=2 \n"
     ]
    },
    {
     "name": "stdout",
     "output_type": "stream",
     "text": [
      "[CV]  Preprocessor__nume_par__imputer__strategy=median, RandomForest__max_depth=2, RandomForest__min_samples_split=2, total=   0.4s\n",
      "[CV] Preprocessor__nume_par__imputer__strategy=median, RandomForest__max_depth=2, RandomForest__min_samples_split=4 \n",
      "[CV]  Preprocessor__nume_par__imputer__strategy=median, RandomForest__max_depth=2, RandomForest__min_samples_split=4, total=   0.3s\n",
      "[CV] Preprocessor__nume_par__imputer__strategy=median, RandomForest__max_depth=2, RandomForest__min_samples_split=4 \n",
      "[CV]  Preprocessor__nume_par__imputer__strategy=median, RandomForest__max_depth=2, RandomForest__min_samples_split=4, total=   0.3s\n",
      "[CV] Preprocessor__nume_par__imputer__strategy=median, RandomForest__max_depth=2, RandomForest__min_samples_split=4 \n",
      "[CV]  Preprocessor__nume_par__imputer__strategy=median, RandomForest__max_depth=2, RandomForest__min_samples_split=4, total=   0.3s\n",
      "[CV] Preprocessor__nume_par__imputer__strategy=median, RandomForest__max_depth=2, RandomForest__min_samples_split=4 \n",
      "[CV]  Preprocessor__nume_par__imputer__strategy=median, RandomForest__max_depth=2, RandomForest__min_samples_split=4, total=   0.3s\n",
      "[CV] Preprocessor__nume_par__imputer__strategy=median, RandomForest__max_depth=2, RandomForest__min_samples_split=4 \n",
      "[CV]  Preprocessor__nume_par__imputer__strategy=median, RandomForest__max_depth=2, RandomForest__min_samples_split=4, total=   0.3s\n"
     ]
    },
    {
     "name": "stderr",
     "output_type": "stream",
     "text": [
      "[Parallel(n_jobs=1)]: Done  40 out of  40 | elapsed:   17.4s finished\n"
     ]
    },
    {
     "data": {
      "text/plain": [
       "0.38367188368769367"
      ]
     },
     "execution_count": 2,
     "metadata": {},
     "output_type": "execute_result"
    }
   ],
   "source": [
    "#improving result using GridSearchCV\n",
    "grid = {\n",
    "    'Preprocessor__nume_par__imputer__strategy':['mean','median'],\n",
    "    'RandomForest__min_samples_split': [2, 4],\n",
    "    'RandomForest__max_depth': [None, 2]\n",
    "}\n",
    "GSC = GridSearchCV(modelling,\n",
    "                   param_grid=grid,\n",
    "                   cv=5,\n",
    "                   verbose=2)\n",
    "GSC.fit(X_train,Y_train)\n",
    "scorer = GSC.score(X_test,Y_test)\n",
    "scorer\n"
   ]
  },
  {
   "cell_type": "code",
   "execution_count": 5,
   "metadata": {},
   "outputs": [
    {
     "data": {
      "text/plain": [
       "{'Preprocessor__nume_par__imputer__strategy': 'median',\n",
       " 'RandomForest__max_depth': 2,\n",
       " 'RandomForest__min_samples_split': 4}"
      ]
     },
     "execution_count": 5,
     "metadata": {},
     "output_type": "execute_result"
    }
   ],
   "source": [
    "GSC.best_params_"
   ]
  },
  {
   "cell_type": "code",
   "execution_count": null,
   "metadata": {},
   "outputs": [],
   "source": []
  }
 ],
 "metadata": {
  "kernelspec": {
   "display_name": "Python 3",
   "language": "python",
   "name": "python3"
  },
  "language_info": {
   "codemirror_mode": {
    "name": "ipython",
    "version": 3
   },
   "file_extension": ".py",
   "mimetype": "text/x-python",
   "name": "python",
   "nbconvert_exporter": "python",
   "pygments_lexer": "ipython3",
   "version": "3.8.3"
  }
 },
 "nbformat": 4,
 "nbformat_minor": 4
}
